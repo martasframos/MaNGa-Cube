{
 "cells": [
  {
   "cell_type": "markdown",
   "metadata": {},
   "source": [
    "Accessing MaNGa datacube using Marvin."
   ]
  },
  {
   "cell_type": "code",
   "execution_count": null,
   "metadata": {},
   "outputs": [],
   "source": [
    "!pip install sdss-marvin --user"
   ]
  },
  {
   "cell_type": "code",
   "execution_count": null,
   "metadata": {},
   "outputs": [],
   "source": [
    "from marvin.tools.cube import Cube\n",
    "import marvin\n",
    "from astropy import units as u\n",
    "import numpy as np\n",
    "import matplotlib.pyplot as plt\n",
    "\n",
    "\n",
    "\n",
    "cube = Cube(plateifu='8135-3702') \n",
    "\n",
    "spaxel = cube.getSpaxel(0,0) #coordinates for the spaxel you wish to plot\n",
    "spaxel.flux.plot() #plotting the spectra\n",
    "\n",
    "#If you want more control over the flux, wavelength and ivar values, you can turn them into arrays\n",
    "\n",
    "flux=spaxel.flux.value \n",
    "wavelength_val=spaxel.flux.wavelength\n",
    "ivar=spaxel.flux.ivar\n",
    "#print('the flux is',flux)\n",
    "#print('the ivar is', ivar)\n",
    "\n",
    "#The wavelength comes with units attached to it, so this is to remove them and have just the values\n",
    "wavelength=[]\n",
    "for i in wavelength_val:\n",
    "    no_unit=i/ u.AA\n",
    "    wavelength.append(float(no_unit))\n",
    "#print('the wavelength is', wavelength)"
   ]
  },
  {
   "cell_type": "markdown",
   "metadata": {},
   "source": [
    "If you know the RA and DEC of a particular spaxel you can get said spaxel by doing the following:"
   ]
  },
  {
   "cell_type": "code",
   "execution_count": null,
   "metadata": {},
   "outputs": [],
   "source": [
    "spaxel=cube.getSpaxel(ra=136.01717,dec=57.09233)\n",
    "spaxel.flux.plot()"
   ]
  },
  {
   "cell_type": "code",
   "execution_count": null,
   "metadata": {},
   "outputs": [],
   "source": []
  }
 ],
 "metadata": {
  "kernelspec": {
   "display_name": "Python 3",
   "language": "python",
   "name": "python3"
  },
  "language_info": {
   "codemirror_mode": {
    "name": "ipython",
    "version": 3
   },
   "file_extension": ".py",
   "mimetype": "text/x-python",
   "name": "python",
   "nbconvert_exporter": "python",
   "pygments_lexer": "ipython3",
   "version": "3.7.4"
  }
 },
 "nbformat": 4,
 "nbformat_minor": 4
}
